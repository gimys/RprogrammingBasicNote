{
 "cells": [
  {
   "cell_type": "markdown",
   "metadata": {},
   "source": [
    "# R programming 기본 내용 정리"
   ]
  },
  {
   "cell_type": "markdown",
   "metadata": {},
   "source": [
    "## 0. 들어가며\n",
    "- R programming은 입문자 관점에서 기초적인 변수할당, 파일 읽기, 기본 데이터 전처리기능 정도만 사용하면 나머지는 패키지를 쓰면 됨\n",
    "- 패키지 사용부터는 각 패키지의 가이드를 보면 되고, 유명 패키지는 포스팅이 한국에도 많으니 사용에 문제가 없음\n",
    "- 엄밀하게 따지면 지엽적으로 설명한 내용도 있음\n",
    "- 본 마크다운은 그동안 만든 개인용+교육용+정리용 코드를 아무렇게나 정리한 문서임\n",
    "- 설명과 코드 퀄리티의 수준이 매우 낮으니 참고용 자료로 쓰고 사용이 편해지면 정식 가이드나 프로들의 코드를 참고하자!"
   ]
  },
  {
   "cell_type": "markdown",
   "metadata": {},
   "source": [
    "## 1. 기초 함수와 객체"
   ]
  },
  {
   "cell_type": "markdown",
   "metadata": {},
   "source": [
    "### 1-1. 변수 할당"
   ]
  },
  {
   "cell_type": "markdown",
   "metadata": {},
   "source": [
    "- 다른 언어에서 사용하는 '='을 '<-'으로 사용가능"
   ]
  },
  {
   "cell_type": "code",
   "execution_count": 2,
   "metadata": {},
   "outputs": [
    {
     "name": "stdout",
     "output_type": "stream",
     "text": [
      "[1] 1\n",
      "[1] 2\n"
     ]
    }
   ],
   "source": [
    "a = 1\n",
    "b <- 2\n",
    "print(a)\n",
    "print(b)"
   ]
  },
  {
   "cell_type": "markdown",
   "metadata": {},
   "source": [
    "* 하지만 우선 우선 순위가 있어서 섞어서 사용하면 순서가 중요함\n",
    "* '<-'가 '='보다 연산순위가 높으므로, case4에서는 a<-b가 먼저 실행되지만 b에 할당된 값이 없으므로 오류 발생\n",
    "* 결론적으로 섞어서 사용할 일이 거의 없고, 섞어서 사용하면 헷갈리니 그냥 하나로 통일해서 사용할 것"
   ]
  },
  {
   "cell_type": "code",
   "execution_count": 34,
   "metadata": {
    "scrolled": true
   },
   "outputs": [
    {
     "name": "stdout",
     "output_type": "stream",
     "text": [
      "[1] \"case1 : 가능\"\n",
      "[1] 100\n",
      "[1] 100\n",
      "\n",
      "[1] \"case2 : 가능\"\n",
      "[1] 200\n",
      "[1] 200\n",
      "\n",
      "[1] \"case3 : 가능\"\n",
      "[1] 300\n",
      "[1] 300\n",
      "\n",
      "[1] \"case4 : 불가능\"\n"
     ]
    },
    {
     "ename": "ERROR",
     "evalue": "Error in a <- b = 400: 함수 \"<-<-\"를 찾을 수 없습니다\n",
     "output_type": "error",
     "traceback": [
      "Error in a <- b = 400: 함수 \"<-<-\"를 찾을 수 없습니다\nTraceback:\n"
     ]
    }
   ],
   "source": [
    "print('case1 : 가능')\n",
    "a = b = 100\n",
    "print(a)\n",
    "print(b)\n",
    "cat('\\n')\n",
    "\n",
    "print('case2 : 가능')\n",
    "a <- b <- 200\n",
    "print(a)\n",
    "print(b)\n",
    "cat('\\n')\n",
    "\n",
    "print('case3 : 가능')\n",
    "a = b <- 300\n",
    "print(a)\n",
    "print(b)\n",
    "cat('\\n')\n",
    "\n",
    "print('case4 : 불가능')\n",
    "a <- b = 400\n",
    "print(a)\n",
    "print(b)"
   ]
  },
  {
   "cell_type": "markdown",
   "metadata": {},
   "source": [
    "### 1-2. 기본연산"
   ]
  },
  {
   "cell_type": "markdown",
   "metadata": {},
   "source": [
    "- 다른 언어와 크게 다른게 없음"
   ]
  },
  {
   "cell_type": "code",
   "execution_count": 32,
   "metadata": {},
   "outputs": [
    {
     "name": "stdout",
     "output_type": "stream",
     "text": [
      "[1] \"더하기\"\n",
      "[1] 15\n",
      "\n",
      "[1] \"빼기\"\n",
      "[1] 5\n",
      "\n",
      "[1] \"곱하기\"\n",
      "[1] 50\n",
      "\n",
      "[1] \"나누기\"\n",
      "[1] 2\n",
      "\n",
      "[1] \"거듭제곱\"\n",
      "[1] 1e+05\n",
      "[1] 1e+05\n",
      "\n",
      "[1] \"제곱근\"\n",
      "[1] 3.162278\n",
      "[1] 3.162278\n"
     ]
    }
   ],
   "source": [
    "a = 10\n",
    "b = 5\n",
    "\n",
    "print('더하기')\n",
    "print(a+b)\n",
    "cat('\\n')\n",
    "\n",
    "print('빼기')\n",
    "print(a-b)\n",
    "cat('\\n')\n",
    "\n",
    "print('곱하기')\n",
    "print(a*b)\n",
    "cat('\\n')\n",
    "\n",
    "print('나누기')\n",
    "print(a/b)\n",
    "cat('\\n')\n",
    "\n",
    "print('거듭제곱')\n",
    "print(a**b)\n",
    "print(a^b)\n",
    "cat('\\n')\n",
    "\n",
    "print('제곱근')\n",
    "print(sqrt(a))\n",
    "print(a^(1/2))"
   ]
  },
  {
   "cell_type": "markdown",
   "metadata": {},
   "source": [
    "### 1-3. 객체 만들기"
   ]
  },
  {
   "cell_type": "markdown",
   "metadata": {},
   "source": [
    "- 변수나 변수들의 묶음을 객체라고 생각하면 됨\n",
    "- 그리고 객체에 변수가 하나거나 여러개여도 차이없이 모두 벡터로 취급함\n",
    "- 객체든 벡터든 이해 안되면 일단 넘어가자"
   ]
  },
  {
   "cell_type": "code",
   "execution_count": 41,
   "metadata": {},
   "outputs": [
    {
     "name": "stdout",
     "output_type": "stream",
     "text": [
      "[1] \"정수도 벡터인가?\"\n",
      "[1] TRUE\n",
      "\n",
      "[1] \"문자도 벡터인가?\"\n",
      "[1] TRUE\n",
      "\n",
      "[1] \"실수도 벡터인가?\"\n",
      "[1] TRUE\n",
      "\n"
     ]
    }
   ],
   "source": [
    "a = 1\n",
    "b = '객체'\n",
    "c = 123.57378\n",
    "\n",
    "print('정수도 벡터인가?')\n",
    "print(is.vector(a))\n",
    "cat('\\n')\n",
    "\n",
    "print('문자도 벡터인가?')\n",
    "print(is.vector(b))\n",
    "cat('\\n')\n",
    "\n",
    "print('실수도 벡터인가?')\n",
    "print(is.vector(c))\n",
    "cat('\\n')"
   ]
  },
  {
   "cell_type": "markdown",
   "metadata": {},
   "source": [
    "- 파이썬의 리스트(list)처럼 \"여러개의 변수\"가 있는 \"객체\"를 만들어보자"
   ]
  },
  {
   "cell_type": "code",
   "execution_count": 44,
   "metadata": {},
   "outputs": [
    {
     "name": "stdout",
     "output_type": "stream",
     "text": [
      "[1] 1 2 3 4 5\n"
     ]
    }
   ],
   "source": [
    "a = c(1, 2, 3, 4, 5)\n",
    "print(a)"
   ]
  },
  {
   "cell_type": "markdown",
   "metadata": {},
   "source": [
    "- 그리고 여러개의 벡터가 있는 객체도 물론 벡터다"
   ]
  },
  {
   "cell_type": "code",
   "execution_count": 45,
   "metadata": {},
   "outputs": [
    {
     "name": "stdout",
     "output_type": "stream",
     "text": [
      "[1] \"여러개의 벡터를 묶은 객체도 벡터인가?\"\n",
      "[1] TRUE\n",
      "\n"
     ]
    }
   ],
   "source": [
    "print('여러개의 벡터를 묶은 객체도 벡터인가?')\n",
    "print(is.vector(a))\n",
    "cat('\\n')"
   ]
  },
  {
   "cell_type": "markdown",
   "metadata": {},
   "source": [
    "## 2. 데이터테이블(data table) 사용"
   ]
  },
  {
   "cell_type": "markdown",
   "metadata": {},
   "source": [
    "- 대충 기본 사용법은 위에 있는 것만 알면 된다.\n",
    "- 사실 R에서는 어떤 데이터를 불러와서 어떻게 분석하느냐가 중요하다.\n",
    "- 위의 기본 개념을 가지고 데이터테이블으로 전처리하는 기본적인 과정을 익히자"
   ]
  },
  {
   "cell_type": "markdown",
   "metadata": {},
   "source": [
    "### 2-1. 작업 폴더 설정"
   ]
  },
  {
   "cell_type": "markdown",
   "metadata": {},
   "source": [
    "- 현재 작업폴더를 확인해보면 기본 설정 위치가 지정되어 있다"
   ]
  },
  {
   "cell_type": "code",
   "execution_count": 50,
   "metadata": {},
   "outputs": [
    {
     "data": {
      "text/html": [
       "'C:/Users/User'"
      ],
      "text/latex": [
       "'C:/Users/User'"
      ],
      "text/markdown": [
       "'C:/Users/User'"
      ],
      "text/plain": [
       "[1] \"C:/Users/User\""
      ]
     },
     "metadata": {},
     "output_type": "display_data"
    }
   ],
   "source": [
    "getwd()"
   ]
  },
  {
   "cell_type": "markdown",
   "metadata": {},
   "source": [
    "- 자신이 원하는 폴더로 변경하려면 아래와 같다.\n",
    "- 상하위 폴더 구분은 '/'를 사용한다."
   ]
  },
  {
   "cell_type": "code",
   "execution_count": 56,
   "metadata": {},
   "outputs": [
    {
     "data": {
      "text/html": [
       "'E:/kaggle_korea/R_pract'"
      ],
      "text/latex": [
       "'E:/kaggle\\_korea/R\\_pract'"
      ],
      "text/markdown": [
       "'E:/kaggle_korea/R_pract'"
      ],
      "text/plain": [
       "[1] \"E:/kaggle_korea/R_pract\""
      ]
     },
     "metadata": {},
     "output_type": "display_data"
    }
   ],
   "source": [
    "setwd(\"E:/kaggle_korea/R_pract\")\n",
    "getwd()"
   ]
  },
  {
   "cell_type": "markdown",
   "metadata": {},
   "source": [
    "- 하지만 Rstudio를 사용하면 상단 메뉴인 Session -> Set Working Directory -> Choose Directory를 누르면 쉽게 설정이 가능하다.\n",
    "- 분석 중 작업폴더를 바꾸는 과정이 없다면 메뉴에서 한 번 설정하는 방법이 훨씬 간편하다."
   ]
  },
  {
   "cell_type": "markdown",
   "metadata": {},
   "source": [
    "### 2-2. 데이터 불러오기"
   ]
  },
  {
   "cell_type": "markdown",
   "metadata": {},
   "source": [
    "- 데이터 파일의 형식은 많지만 기초단계에서는 csv 빼고 볼 일이 없다.\n",
    "- 그리고 사용에 익숙해지면 다른 형식의 파일을 불러 오는 것은 명령어가 조금 다르거나 패키지가 조금 다르다.\n",
    "- 여기서는 기본적인 불러오기에서 발생할 수 있는 문제를 몇가지 설명한다."
   ]
  },
  {
   "cell_type": "code",
   "execution_count": 124,
   "metadata": {},
   "outputs": [
    {
     "data": {
      "text/html": [
       "<table>\n",
       "<thead><tr><th scope=col>PassengerId</th><th scope=col>Pclass</th><th scope=col>Name</th><th scope=col>Sex</th><th scope=col>Age</th><th scope=col>SibSp</th><th scope=col>Parch</th><th scope=col>Ticket</th><th scope=col>Fare</th><th scope=col>Cabin</th><th scope=col>Embarked</th></tr></thead>\n",
       "<tbody>\n",
       "\t<tr><td>892                                          </td><td>3                                            </td><td>Kelly, Mr. James                             </td><td>male                                         </td><td>34.5                                         </td><td>0                                            </td><td>0                                            </td><td>330911                                       </td><td> 7.8292                                      </td><td>                                             </td><td>Q                                            </td></tr>\n",
       "\t<tr><td>893                                          </td><td>3                                            </td><td>Wilkes, Mrs. James (Ellen Needs)             </td><td>female                                       </td><td>47.0                                         </td><td>1                                            </td><td>0                                            </td><td>363272                                       </td><td> 7.0000                                      </td><td>                                             </td><td>S                                            </td></tr>\n",
       "\t<tr><td>894                                          </td><td>2                                            </td><td>Myles, Mr. Thomas Francis                    </td><td>male                                         </td><td>62.0                                         </td><td>0                                            </td><td>0                                            </td><td>240276                                       </td><td> 9.6875                                      </td><td>                                             </td><td>Q                                            </td></tr>\n",
       "\t<tr><td>895                                          </td><td>3                                            </td><td>Wirz, Mr. Albert                             </td><td>male                                         </td><td>27.0                                         </td><td>0                                            </td><td>0                                            </td><td>315154                                       </td><td> 8.6625                                      </td><td>                                             </td><td>S                                            </td></tr>\n",
       "\t<tr><td>896                                          </td><td>3                                            </td><td>Hirvonen, Mrs. Alexander (Helga E Lindqvist) </td><td>female                                       </td><td>22.0                                         </td><td>1                                            </td><td>1                                            </td><td>3101298                                      </td><td>12.2875                                      </td><td>                                             </td><td>S                                            </td></tr>\n",
       "\t<tr><td>897                                          </td><td>3                                            </td><td>Svensson, Mr. Johan Cervin                   </td><td>male                                         </td><td>14.0                                         </td><td>0                                            </td><td>0                                            </td><td>7538                                         </td><td> 9.2250                                      </td><td>                                             </td><td>S                                            </td></tr>\n",
       "\t<tr><td>898                                          </td><td>3                                            </td><td>Connolly, Miss. Kate                         </td><td>female                                       </td><td>30.0                                         </td><td>0                                            </td><td>0                                            </td><td>330972                                       </td><td> 7.6292                                      </td><td>                                             </td><td>Q                                            </td></tr>\n",
       "\t<tr><td>899                                          </td><td>2                                            </td><td>Caldwell, Mr. Albert Francis                 </td><td>male                                         </td><td>26.0                                         </td><td>1                                            </td><td>1                                            </td><td>248738                                       </td><td>29.0000                                      </td><td>                                             </td><td>S                                            </td></tr>\n",
       "\t<tr><td>900                                          </td><td>3                                            </td><td>Abrahim, Mrs. Joseph (Sophie Halaut Easu)    </td><td>female                                       </td><td>18.0                                         </td><td>0                                            </td><td>0                                            </td><td>2657                                         </td><td> 7.2292                                      </td><td>                                             </td><td>C                                            </td></tr>\n",
       "\t<tr><td>901                                          </td><td>3                                            </td><td>Davies, Mr. John Samuel                      </td><td>male                                         </td><td>21.0                                         </td><td>2                                            </td><td>0                                            </td><td>A/4 48871                                    </td><td>24.1500                                      </td><td>                                             </td><td>S                                            </td></tr>\n",
       "\t<tr><td>902                                          </td><td>3                                            </td><td>Ilieff, Mr. Ylio                             </td><td>male                                         </td><td>  NA                                         </td><td>0                                            </td><td>0                                            </td><td>349220                                       </td><td> 7.8958                                      </td><td>                                             </td><td>S                                            </td></tr>\n",
       "\t<tr><td>903                                          </td><td>1                                            </td><td>Jones, Mr. Charles Cresson                   </td><td>male                                         </td><td>46.0                                         </td><td>0                                            </td><td>0                                            </td><td>694                                          </td><td>26.0000                                      </td><td>                                             </td><td>S                                            </td></tr>\n",
       "\t<tr><td>904                                          </td><td>1                                            </td><td>Snyder, Mrs. John Pillsbury (Nelle Stevenson)</td><td>female                                       </td><td>23.0                                         </td><td>1                                            </td><td>0                                            </td><td>21228                                        </td><td>82.2667                                      </td><td>B45                                          </td><td>S                                            </td></tr>\n",
       "\t<tr><td>905                                          </td><td>2                                            </td><td>Howard, Mr. Benjamin                         </td><td>male                                         </td><td>63.0                                         </td><td>1                                            </td><td>0                                            </td><td>24065                                        </td><td>26.0000                                      </td><td>                                             </td><td>S                                            </td></tr>\n",
       "</tbody>\n",
       "</table>\n"
      ],
      "text/latex": [
       "\\begin{tabular}{r|lllllllllll}\n",
       " PassengerId & Pclass & Name & Sex & Age & SibSp & Parch & Ticket & Fare & Cabin & Embarked\\\\\n",
       "\\hline\n",
       "\t 892                                           & 3                                             & Kelly, Mr. James                              & male                                          & 34.5                                          & 0                                             & 0                                             & 330911                                        &  7.8292                                       &                                               & Q                                            \\\\\n",
       "\t 893                                           & 3                                             & Wilkes, Mrs. James (Ellen Needs)              & female                                        & 47.0                                          & 1                                             & 0                                             & 363272                                        &  7.0000                                       &                                               & S                                            \\\\\n",
       "\t 894                                           & 2                                             & Myles, Mr. Thomas Francis                     & male                                          & 62.0                                          & 0                                             & 0                                             & 240276                                        &  9.6875                                       &                                               & Q                                            \\\\\n",
       "\t 895                                           & 3                                             & Wirz, Mr. Albert                              & male                                          & 27.0                                          & 0                                             & 0                                             & 315154                                        &  8.6625                                       &                                               & S                                            \\\\\n",
       "\t 896                                           & 3                                             & Hirvonen, Mrs. Alexander (Helga E Lindqvist)  & female                                        & 22.0                                          & 1                                             & 1                                             & 3101298                                       & 12.2875                                       &                                               & S                                            \\\\\n",
       "\t 897                                           & 3                                             & Svensson, Mr. Johan Cervin                    & male                                          & 14.0                                          & 0                                             & 0                                             & 7538                                          &  9.2250                                       &                                               & S                                            \\\\\n",
       "\t 898                                           & 3                                             & Connolly, Miss. Kate                          & female                                        & 30.0                                          & 0                                             & 0                                             & 330972                                        &  7.6292                                       &                                               & Q                                            \\\\\n",
       "\t 899                                           & 2                                             & Caldwell, Mr. Albert Francis                  & male                                          & 26.0                                          & 1                                             & 1                                             & 248738                                        & 29.0000                                       &                                               & S                                            \\\\\n",
       "\t 900                                           & 3                                             & Abrahim, Mrs. Joseph (Sophie Halaut Easu)     & female                                        & 18.0                                          & 0                                             & 0                                             & 2657                                          &  7.2292                                       &                                               & C                                            \\\\\n",
       "\t 901                                           & 3                                             & Davies, Mr. John Samuel                       & male                                          & 21.0                                          & 2                                             & 0                                             & A/4 48871                                     & 24.1500                                       &                                               & S                                            \\\\\n",
       "\t 902                                           & 3                                             & Ilieff, Mr. Ylio                              & male                                          &   NA                                          & 0                                             & 0                                             & 349220                                        &  7.8958                                       &                                               & S                                            \\\\\n",
       "\t 903                                           & 1                                             & Jones, Mr. Charles Cresson                    & male                                          & 46.0                                          & 0                                             & 0                                             & 694                                           & 26.0000                                       &                                               & S                                            \\\\\n",
       "\t 904                                           & 1                                             & Snyder, Mrs. John Pillsbury (Nelle Stevenson) & female                                        & 23.0                                          & 1                                             & 0                                             & 21228                                         & 82.2667                                       & B45                                           & S                                            \\\\\n",
       "\t 905                                           & 2                                             & Howard, Mr. Benjamin                          & male                                          & 63.0                                          & 1                                             & 0                                             & 24065                                         & 26.0000                                       &                                               & S                                            \\\\\n",
       "\\end{tabular}\n"
      ],
      "text/markdown": [
       "\n",
       "PassengerId | Pclass | Name | Sex | Age | SibSp | Parch | Ticket | Fare | Cabin | Embarked | \n",
       "|---|---|---|---|---|---|---|---|---|---|---|---|---|---|\n",
       "| 892                                           | 3                                             | Kelly, Mr. James                              | male                                          | 34.5                                          | 0                                             | 0                                             | 330911                                        |  7.8292                                       |                                               | Q                                             | \n",
       "| 893                                           | 3                                             | Wilkes, Mrs. James (Ellen Needs)              | female                                        | 47.0                                          | 1                                             | 0                                             | 363272                                        |  7.0000                                       |                                               | S                                             | \n",
       "| 894                                           | 2                                             | Myles, Mr. Thomas Francis                     | male                                          | 62.0                                          | 0                                             | 0                                             | 240276                                        |  9.6875                                       |                                               | Q                                             | \n",
       "| 895                                           | 3                                             | Wirz, Mr. Albert                              | male                                          | 27.0                                          | 0                                             | 0                                             | 315154                                        |  8.6625                                       |                                               | S                                             | \n",
       "| 896                                           | 3                                             | Hirvonen, Mrs. Alexander (Helga E Lindqvist)  | female                                        | 22.0                                          | 1                                             | 1                                             | 3101298                                       | 12.2875                                       |                                               | S                                             | \n",
       "| 897                                           | 3                                             | Svensson, Mr. Johan Cervin                    | male                                          | 14.0                                          | 0                                             | 0                                             | 7538                                          |  9.2250                                       |                                               | S                                             | \n",
       "| 898                                           | 3                                             | Connolly, Miss. Kate                          | female                                        | 30.0                                          | 0                                             | 0                                             | 330972                                        |  7.6292                                       |                                               | Q                                             | \n",
       "| 899                                           | 2                                             | Caldwell, Mr. Albert Francis                  | male                                          | 26.0                                          | 1                                             | 1                                             | 248738                                        | 29.0000                                       |                                               | S                                             | \n",
       "| 900                                           | 3                                             | Abrahim, Mrs. Joseph (Sophie Halaut Easu)     | female                                        | 18.0                                          | 0                                             | 0                                             | 2657                                          |  7.2292                                       |                                               | C                                             | \n",
       "| 901                                           | 3                                             | Davies, Mr. John Samuel                       | male                                          | 21.0                                          | 2                                             | 0                                             | A/4 48871                                     | 24.1500                                       |                                               | S                                             | \n",
       "| 902                                           | 3                                             | Ilieff, Mr. Ylio                              | male                                          |   NA                                          | 0                                             | 0                                             | 349220                                        |  7.8958                                       |                                               | S                                             | \n",
       "| 903                                           | 1                                             | Jones, Mr. Charles Cresson                    | male                                          | 46.0                                          | 0                                             | 0                                             | 694                                           | 26.0000                                       |                                               | S                                             | \n",
       "| 904                                           | 1                                             | Snyder, Mrs. John Pillsbury (Nelle Stevenson) | female                                        | 23.0                                          | 1                                             | 0                                             | 21228                                         | 82.2667                                       | B45                                           | S                                             | \n",
       "| 905                                           | 2                                             | Howard, Mr. Benjamin                          | male                                          | 63.0                                          | 1                                             | 0                                             | 24065                                         | 26.0000                                       |                                               | S                                             | \n",
       "\n",
       "\n"
      ],
      "text/plain": [
       "   PassengerId Pclass Name                                          Sex    Age \n",
       "1  892         3      Kelly, Mr. James                              male   34.5\n",
       "2  893         3      Wilkes, Mrs. James (Ellen Needs)              female 47.0\n",
       "3  894         2      Myles, Mr. Thomas Francis                     male   62.0\n",
       "4  895         3      Wirz, Mr. Albert                              male   27.0\n",
       "5  896         3      Hirvonen, Mrs. Alexander (Helga E Lindqvist)  female 22.0\n",
       "6  897         3      Svensson, Mr. Johan Cervin                    male   14.0\n",
       "7  898         3      Connolly, Miss. Kate                          female 30.0\n",
       "8  899         2      Caldwell, Mr. Albert Francis                  male   26.0\n",
       "9  900         3      Abrahim, Mrs. Joseph (Sophie Halaut Easu)     female 18.0\n",
       "10 901         3      Davies, Mr. John Samuel                       male   21.0\n",
       "11 902         3      Ilieff, Mr. Ylio                              male     NA\n",
       "12 903         1      Jones, Mr. Charles Cresson                    male   46.0\n",
       "13 904         1      Snyder, Mrs. John Pillsbury (Nelle Stevenson) female 23.0\n",
       "14 905         2      Howard, Mr. Benjamin                          male   63.0\n",
       "   SibSp Parch Ticket    Fare    Cabin Embarked\n",
       "1  0     0     330911     7.8292       Q       \n",
       "2  1     0     363272     7.0000       S       \n",
       "3  0     0     240276     9.6875       Q       \n",
       "4  0     0     315154     8.6625       S       \n",
       "5  1     1     3101298   12.2875       S       \n",
       "6  0     0     7538       9.2250       S       \n",
       "7  0     0     330972     7.6292       Q       \n",
       "8  1     1     248738    29.0000       S       \n",
       "9  0     0     2657       7.2292       C       \n",
       "10 2     0     A/4 48871 24.1500       S       \n",
       "11 0     0     349220     7.8958       S       \n",
       "12 0     0     694       26.0000       S       \n",
       "13 1     0     21228     82.2667 B45   S       \n",
       "14 1     0     24065     26.0000       S       "
      ]
     },
     "metadata": {},
     "output_type": "display_data"
    }
   ],
   "source": [
    "tmp = read.csv('titanic_test.csv')\n",
    "tmp"
   ]
  },
  {
   "cell_type": "markdown",
   "metadata": {},
   "source": [
    "- 엄청나게 유명한 타이타닉 csv파일을 read.csv로 불러왔다.\n",
    "- 그럼 read.table로 불러보자"
   ]
  },
  {
   "cell_type": "code",
   "execution_count": 138,
   "metadata": {},
   "outputs": [
    {
     "data": {
      "text/html": [
       "<table>\n",
       "<thead><tr><th scope=col>PassengerId</th><th scope=col>Pclass</th><th scope=col>Name</th><th scope=col>Sex</th><th scope=col>Age</th><th scope=col>SibSp</th><th scope=col>Parch</th><th scope=col>Ticket</th><th scope=col>Fare</th><th scope=col>Cabin</th><th scope=col>Embarked</th></tr></thead>\n",
       "<tbody>\n",
       "\t<tr><td>892                                          </td><td>3                                            </td><td>Kelly, Mr. James                             </td><td>male                                         </td><td>34.5                                         </td><td>0                                            </td><td>0                                            </td><td>330911                                       </td><td> 7.8292                                      </td><td>                                             </td><td>Q                                            </td></tr>\n",
       "\t<tr><td>893                                          </td><td>3                                            </td><td>Wilkes, Mrs. James (Ellen Needs)             </td><td>female                                       </td><td>47.0                                         </td><td>1                                            </td><td>0                                            </td><td>363272                                       </td><td> 7.0000                                      </td><td>                                             </td><td>S                                            </td></tr>\n",
       "\t<tr><td>894                                          </td><td>2                                            </td><td>Myles, Mr. Thomas Francis                    </td><td>male                                         </td><td>62.0                                         </td><td>0                                            </td><td>0                                            </td><td>240276                                       </td><td> 9.6875                                      </td><td>                                             </td><td>Q                                            </td></tr>\n",
       "\t<tr><td>895                                          </td><td>3                                            </td><td>Wirz, Mr. Albert                             </td><td>male                                         </td><td>27.0                                         </td><td>0                                            </td><td>0                                            </td><td>315154                                       </td><td> 8.6625                                      </td><td>                                             </td><td>S                                            </td></tr>\n",
       "\t<tr><td>896                                          </td><td>3                                            </td><td>Hirvonen, Mrs. Alexander (Helga E Lindqvist) </td><td>female                                       </td><td>22.0                                         </td><td>1                                            </td><td>1                                            </td><td>3101298                                      </td><td>12.2875                                      </td><td>                                             </td><td>S                                            </td></tr>\n",
       "\t<tr><td>897                                          </td><td>3                                            </td><td>Svensson, Mr. Johan Cervin                   </td><td>male                                         </td><td>14.0                                         </td><td>0                                            </td><td>0                                            </td><td>7538                                         </td><td> 9.2250                                      </td><td>                                             </td><td>S                                            </td></tr>\n",
       "\t<tr><td>898                                          </td><td>3                                            </td><td>Connolly, Miss. Kate                         </td><td>female                                       </td><td>30.0                                         </td><td>0                                            </td><td>0                                            </td><td>330972                                       </td><td> 7.6292                                      </td><td>                                             </td><td>Q                                            </td></tr>\n",
       "\t<tr><td>899                                          </td><td>2                                            </td><td>Caldwell, Mr. Albert Francis                 </td><td>male                                         </td><td>26.0                                         </td><td>1                                            </td><td>1                                            </td><td>248738                                       </td><td>29.0000                                      </td><td>                                             </td><td>S                                            </td></tr>\n",
       "\t<tr><td>900                                          </td><td>3                                            </td><td>Abrahim, Mrs. Joseph (Sophie Halaut Easu)    </td><td>female                                       </td><td>18.0                                         </td><td>0                                            </td><td>0                                            </td><td>2657                                         </td><td> 7.2292                                      </td><td>                                             </td><td>C                                            </td></tr>\n",
       "\t<tr><td>901                                          </td><td>3                                            </td><td>Davies, Mr. John Samuel                      </td><td>male                                         </td><td>21.0                                         </td><td>2                                            </td><td>0                                            </td><td>A/4 48871                                    </td><td>24.1500                                      </td><td>                                             </td><td>S                                            </td></tr>\n",
       "\t<tr><td>902                                          </td><td>3                                            </td><td>Ilieff, Mr. Ylio                             </td><td>male                                         </td><td>  NA                                         </td><td>0                                            </td><td>0                                            </td><td>349220                                       </td><td> 7.8958                                      </td><td>                                             </td><td>S                                            </td></tr>\n",
       "\t<tr><td>903                                          </td><td>1                                            </td><td>Jones, Mr. Charles Cresson                   </td><td>male                                         </td><td>46.0                                         </td><td>0                                            </td><td>0                                            </td><td>694                                          </td><td>26.0000                                      </td><td>                                             </td><td>S                                            </td></tr>\n",
       "\t<tr><td>904                                          </td><td>1                                            </td><td>Snyder, Mrs. John Pillsbury (Nelle Stevenson)</td><td>female                                       </td><td>23.0                                         </td><td>1                                            </td><td>0                                            </td><td>21228                                        </td><td>82.2667                                      </td><td>B45                                          </td><td>S                                            </td></tr>\n",
       "\t<tr><td>905                                          </td><td>2                                            </td><td>Howard, Mr. Benjamin                         </td><td>male                                         </td><td>63.0                                         </td><td>1                                            </td><td>0                                            </td><td>24065                                        </td><td>26.0000                                      </td><td>                                             </td><td>S                                            </td></tr>\n",
       "</tbody>\n",
       "</table>\n"
      ],
      "text/latex": [
       "\\begin{tabular}{r|lllllllllll}\n",
       " PassengerId & Pclass & Name & Sex & Age & SibSp & Parch & Ticket & Fare & Cabin & Embarked\\\\\n",
       "\\hline\n",
       "\t 892                                           & 3                                             & Kelly, Mr. James                              & male                                          & 34.5                                          & 0                                             & 0                                             & 330911                                        &  7.8292                                       &                                               & Q                                            \\\\\n",
       "\t 893                                           & 3                                             & Wilkes, Mrs. James (Ellen Needs)              & female                                        & 47.0                                          & 1                                             & 0                                             & 363272                                        &  7.0000                                       &                                               & S                                            \\\\\n",
       "\t 894                                           & 2                                             & Myles, Mr. Thomas Francis                     & male                                          & 62.0                                          & 0                                             & 0                                             & 240276                                        &  9.6875                                       &                                               & Q                                            \\\\\n",
       "\t 895                                           & 3                                             & Wirz, Mr. Albert                              & male                                          & 27.0                                          & 0                                             & 0                                             & 315154                                        &  8.6625                                       &                                               & S                                            \\\\\n",
       "\t 896                                           & 3                                             & Hirvonen, Mrs. Alexander (Helga E Lindqvist)  & female                                        & 22.0                                          & 1                                             & 1                                             & 3101298                                       & 12.2875                                       &                                               & S                                            \\\\\n",
       "\t 897                                           & 3                                             & Svensson, Mr. Johan Cervin                    & male                                          & 14.0                                          & 0                                             & 0                                             & 7538                                          &  9.2250                                       &                                               & S                                            \\\\\n",
       "\t 898                                           & 3                                             & Connolly, Miss. Kate                          & female                                        & 30.0                                          & 0                                             & 0                                             & 330972                                        &  7.6292                                       &                                               & Q                                            \\\\\n",
       "\t 899                                           & 2                                             & Caldwell, Mr. Albert Francis                  & male                                          & 26.0                                          & 1                                             & 1                                             & 248738                                        & 29.0000                                       &                                               & S                                            \\\\\n",
       "\t 900                                           & 3                                             & Abrahim, Mrs. Joseph (Sophie Halaut Easu)     & female                                        & 18.0                                          & 0                                             & 0                                             & 2657                                          &  7.2292                                       &                                               & C                                            \\\\\n",
       "\t 901                                           & 3                                             & Davies, Mr. John Samuel                       & male                                          & 21.0                                          & 2                                             & 0                                             & A/4 48871                                     & 24.1500                                       &                                               & S                                            \\\\\n",
       "\t 902                                           & 3                                             & Ilieff, Mr. Ylio                              & male                                          &   NA                                          & 0                                             & 0                                             & 349220                                        &  7.8958                                       &                                               & S                                            \\\\\n",
       "\t 903                                           & 1                                             & Jones, Mr. Charles Cresson                    & male                                          & 46.0                                          & 0                                             & 0                                             & 694                                           & 26.0000                                       &                                               & S                                            \\\\\n",
       "\t 904                                           & 1                                             & Snyder, Mrs. John Pillsbury (Nelle Stevenson) & female                                        & 23.0                                          & 1                                             & 0                                             & 21228                                         & 82.2667                                       & B45                                           & S                                            \\\\\n",
       "\t 905                                           & 2                                             & Howard, Mr. Benjamin                          & male                                          & 63.0                                          & 1                                             & 0                                             & 24065                                         & 26.0000                                       &                                               & S                                            \\\\\n",
       "\\end{tabular}\n"
      ],
      "text/markdown": [
       "\n",
       "PassengerId | Pclass | Name | Sex | Age | SibSp | Parch | Ticket | Fare | Cabin | Embarked | \n",
       "|---|---|---|---|---|---|---|---|---|---|---|---|---|---|\n",
       "| 892                                           | 3                                             | Kelly, Mr. James                              | male                                          | 34.5                                          | 0                                             | 0                                             | 330911                                        |  7.8292                                       |                                               | Q                                             | \n",
       "| 893                                           | 3                                             | Wilkes, Mrs. James (Ellen Needs)              | female                                        | 47.0                                          | 1                                             | 0                                             | 363272                                        |  7.0000                                       |                                               | S                                             | \n",
       "| 894                                           | 2                                             | Myles, Mr. Thomas Francis                     | male                                          | 62.0                                          | 0                                             | 0                                             | 240276                                        |  9.6875                                       |                                               | Q                                             | \n",
       "| 895                                           | 3                                             | Wirz, Mr. Albert                              | male                                          | 27.0                                          | 0                                             | 0                                             | 315154                                        |  8.6625                                       |                                               | S                                             | \n",
       "| 896                                           | 3                                             | Hirvonen, Mrs. Alexander (Helga E Lindqvist)  | female                                        | 22.0                                          | 1                                             | 1                                             | 3101298                                       | 12.2875                                       |                                               | S                                             | \n",
       "| 897                                           | 3                                             | Svensson, Mr. Johan Cervin                    | male                                          | 14.0                                          | 0                                             | 0                                             | 7538                                          |  9.2250                                       |                                               | S                                             | \n",
       "| 898                                           | 3                                             | Connolly, Miss. Kate                          | female                                        | 30.0                                          | 0                                             | 0                                             | 330972                                        |  7.6292                                       |                                               | Q                                             | \n",
       "| 899                                           | 2                                             | Caldwell, Mr. Albert Francis                  | male                                          | 26.0                                          | 1                                             | 1                                             | 248738                                        | 29.0000                                       |                                               | S                                             | \n",
       "| 900                                           | 3                                             | Abrahim, Mrs. Joseph (Sophie Halaut Easu)     | female                                        | 18.0                                          | 0                                             | 0                                             | 2657                                          |  7.2292                                       |                                               | C                                             | \n",
       "| 901                                           | 3                                             | Davies, Mr. John Samuel                       | male                                          | 21.0                                          | 2                                             | 0                                             | A/4 48871                                     | 24.1500                                       |                                               | S                                             | \n",
       "| 902                                           | 3                                             | Ilieff, Mr. Ylio                              | male                                          |   NA                                          | 0                                             | 0                                             | 349220                                        |  7.8958                                       |                                               | S                                             | \n",
       "| 903                                           | 1                                             | Jones, Mr. Charles Cresson                    | male                                          | 46.0                                          | 0                                             | 0                                             | 694                                           | 26.0000                                       |                                               | S                                             | \n",
       "| 904                                           | 1                                             | Snyder, Mrs. John Pillsbury (Nelle Stevenson) | female                                        | 23.0                                          | 1                                             | 0                                             | 21228                                         | 82.2667                                       | B45                                           | S                                             | \n",
       "| 905                                           | 2                                             | Howard, Mr. Benjamin                          | male                                          | 63.0                                          | 1                                             | 0                                             | 24065                                         | 26.0000                                       |                                               | S                                             | \n",
       "\n",
       "\n"
      ],
      "text/plain": [
       "   PassengerId Pclass Name                                          Sex    Age \n",
       "1  892         3      Kelly, Mr. James                              male   34.5\n",
       "2  893         3      Wilkes, Mrs. James (Ellen Needs)              female 47.0\n",
       "3  894         2      Myles, Mr. Thomas Francis                     male   62.0\n",
       "4  895         3      Wirz, Mr. Albert                              male   27.0\n",
       "5  896         3      Hirvonen, Mrs. Alexander (Helga E Lindqvist)  female 22.0\n",
       "6  897         3      Svensson, Mr. Johan Cervin                    male   14.0\n",
       "7  898         3      Connolly, Miss. Kate                          female 30.0\n",
       "8  899         2      Caldwell, Mr. Albert Francis                  male   26.0\n",
       "9  900         3      Abrahim, Mrs. Joseph (Sophie Halaut Easu)     female 18.0\n",
       "10 901         3      Davies, Mr. John Samuel                       male   21.0\n",
       "11 902         3      Ilieff, Mr. Ylio                              male     NA\n",
       "12 903         1      Jones, Mr. Charles Cresson                    male   46.0\n",
       "13 904         1      Snyder, Mrs. John Pillsbury (Nelle Stevenson) female 23.0\n",
       "14 905         2      Howard, Mr. Benjamin                          male   63.0\n",
       "   SibSp Parch Ticket    Fare    Cabin Embarked\n",
       "1  0     0     330911     7.8292       Q       \n",
       "2  1     0     363272     7.0000       S       \n",
       "3  0     0     240276     9.6875       Q       \n",
       "4  0     0     315154     8.6625       S       \n",
       "5  1     1     3101298   12.2875       S       \n",
       "6  0     0     7538       9.2250       S       \n",
       "7  0     0     330972     7.6292       Q       \n",
       "8  1     1     248738    29.0000       S       \n",
       "9  0     0     2657       7.2292       C       \n",
       "10 2     0     A/4 48871 24.1500       S       \n",
       "11 0     0     349220     7.8958       S       \n",
       "12 0     0     694       26.0000       S       \n",
       "13 1     0     21228     82.2667 B45   S       \n",
       "14 1     0     24065     26.0000       S       "
      ]
     },
     "metadata": {},
     "output_type": "display_data"
    }
   ],
   "source": [
    "tmp = read.table('titanic_test.csv', header = TRUE, sep = ',')\n",
    "tmp"
   ]
  },
  {
   "cell_type": "markdown",
   "metadata": {},
   "source": [
    "- read.table은 read.csv와 달리 csv 파일에 header(제일 윗줄에 있는 데이터 정보를 나타내는 행)가 있다고 명시해야하고, 열의 구분은 ','로 된다고 sep에 명시해야한다.\n",
    "- csv에 한정해서는 read.csv가 일반적으로 보기 편한 테이블형식으로 데이터를 불러온다.\n",
    "- 하지만 파일 인코딩 문제, 다른 포멧의 파일 불러오기, 기타 세부설정 등이 필요하면 read.table을 써야한다."
   ]
  },
  {
   "cell_type": "code",
   "execution_count": 141,
   "metadata": {},
   "outputs": [
    {
     "data": {
      "text/html": [
       "<table>\n",
       "<thead><tr><th scope=col>이름</th><th scope=col>성별</th><th scope=col>나이</th><th scope=col>혈액형</th><th scope=col>키</th></tr></thead>\n",
       "<tbody>\n",
       "\t<tr><td>김일번</td><td>남    </td><td>15    </td><td>A     </td><td>164   </td></tr>\n",
       "\t<tr><td>박이번</td><td>여    </td><td>64    </td><td>O     </td><td>180   </td></tr>\n",
       "\t<tr><td>김삼번</td><td>남    </td><td>52    </td><td>A     </td><td>162   </td></tr>\n",
       "\t<tr><td>김사번</td><td>남    </td><td>97    </td><td>A     </td><td>184   </td></tr>\n",
       "\t<tr><td>최오번</td><td>여    </td><td>88    </td><td>B     </td><td>158   </td></tr>\n",
       "\t<tr><td>이육번</td><td>여    </td><td>33    </td><td>AB    </td><td>156   </td></tr>\n",
       "\t<tr><td>이칠번</td><td>여    </td><td>16    </td><td>AB    </td><td>172   </td></tr>\n",
       "\t<tr><td>김팔번</td><td>남    </td><td>52    </td><td>O     </td><td>168   </td></tr>\n",
       "\t<tr><td>이구번</td><td>여    </td><td>24    </td><td>A     </td><td>177   </td></tr>\n",
       "\t<tr><td>최십번</td><td>여    </td><td>23    </td><td>O     </td><td>169   </td></tr>\n",
       "</tbody>\n",
       "</table>\n"
      ],
      "text/latex": [
       "\\begin{tabular}{r|lllll}\n",
       " 이름 & 성별 & 나이 & 혈액형 & 키\\\\\n",
       "\\hline\n",
       "\t 김일번 & 남     & 15     & A      & 164   \\\\\n",
       "\t 박이번 & 여     & 64     & O      & 180   \\\\\n",
       "\t 김삼번 & 남     & 52     & A      & 162   \\\\\n",
       "\t 김사번 & 남     & 97     & A      & 184   \\\\\n",
       "\t 최오번 & 여     & 88     & B      & 158   \\\\\n",
       "\t 이육번 & 여     & 33     & AB     & 156   \\\\\n",
       "\t 이칠번 & 여     & 16     & AB     & 172   \\\\\n",
       "\t 김팔번 & 남     & 52     & O      & 168   \\\\\n",
       "\t 이구번 & 여     & 24     & A      & 177   \\\\\n",
       "\t 최십번 & 여     & 23     & O      & 169   \\\\\n",
       "\\end{tabular}\n"
      ],
      "text/markdown": [
       "\n",
       "이름 | 성별 | 나이 | 혈액형 | 키 | \n",
       "|---|---|---|---|---|---|---|---|---|---|\n",
       "| 김일번 | 남     | 15     | A      | 164    | \n",
       "| 박이번 | 여     | 64     | O      | 180    | \n",
       "| 김삼번 | 남     | 52     | A      | 162    | \n",
       "| 김사번 | 남     | 97     | A      | 184    | \n",
       "| 최오번 | 여     | 88     | B      | 158    | \n",
       "| 이육번 | 여     | 33     | AB     | 156    | \n",
       "| 이칠번 | 여     | 16     | AB     | 172    | \n",
       "| 김팔번 | 남     | 52     | O      | 168    | \n",
       "| 이구번 | 여     | 24     | A      | 177    | \n",
       "| 최십번 | 여     | 23     | O      | 169    | \n",
       "\n",
       "\n"
      ],
      "text/plain": [
       "   이름   성별 나이 혈액형 키 \n",
       "1  김일번 남   15   A      164\n",
       "2  박이번 여   64   O      180\n",
       "3  김삼번 남   52   A      162\n",
       "4  김사번 남   97   A      184\n",
       "5  최오번 여   88   B      158\n",
       "6  이육번 여   33   AB     156\n",
       "7  이칠번 여   16   AB     172\n",
       "8  김팔번 남   52   O      168\n",
       "9  이구번 여   24   A      177\n",
       "10 최십번 여   23   O      169"
      ]
     },
     "metadata": {},
     "output_type": "display_data"
    }
   ],
   "source": [
    "tmp = read.csv('test1_ANSI.csv')\n",
    "tmp"
   ]
  },
  {
   "cell_type": "markdown",
   "metadata": {},
   "source": [
    "- 위의 파일은 인코딩이 ANSI 형식으로 read.csv로 어렵지 않게 불러올 수 있다.\n",
    "- 하지만 아래의 UTF-8 형식의 동일한 파일은 불러올 수 있을까?"
   ]
  },
  {
   "cell_type": "code",
   "execution_count": 142,
   "metadata": {},
   "outputs": [
    {
     "ename": "ERROR",
     "evalue": "Error in make.names(col.names, unique = TRUE): 유효하지 않은 멀티바이트 문자열 1입니다\n",
     "output_type": "error",
     "traceback": [
      "Error in make.names(col.names, unique = TRUE): 유효하지 않은 멀티바이트 문자열 1입니다\nTraceback:\n",
      "1. read.csv(\"test1_UTF.csv\")",
      "2. read.table(file = file, header = header, sep = sep, quote = quote, \n .     dec = dec, fill = fill, comment.char = comment.char, ...)",
      "3. make.names(col.names, unique = TRUE)"
     ]
    }
   ],
   "source": [
    "tmp = read.csv('test1_UTF.csv')\n",
    "tmp"
   ]
  },
  {
   "cell_type": "markdown",
   "metadata": {},
   "source": [
    "- 안된다.\n",
    "- 그럼 인코딩 설정을 붙여보자"
   ]
  },
  {
   "cell_type": "code",
   "execution_count": 158,
   "metadata": {},
   "outputs": [
    {
     "ename": "ERROR",
     "evalue": "Error in type.convert.default(data[[i]], as.is = as.is[i], dec = dec, : '<eb><82><a8><2c>52'에서 유효하지 않은 멀티바이트 문자열이 있습니다\n",
     "output_type": "error",
     "traceback": [
      "Error in type.convert.default(data[[i]], as.is = as.is[i], dec = dec, : '<eb><82><a8><2c>52'에서 유효하지 않은 멀티바이트 문자열이 있습니다\nTraceback:\n",
      "1. read.csv(\"test1_UTF.csv\", encoding = \"UTF-8\")",
      "2. read.table(file = file, header = header, sep = sep, quote = quote, \n .     dec = dec, fill = fill, comment.char = comment.char, ...)",
      "3. type.convert(data[[i]], as.is = as.is[i], dec = dec, numerals = numerals, \n .     na.strings = character(0L))",
      "4. type.convert.default(data[[i]], as.is = as.is[i], dec = dec, \n .     numerals = numerals, na.strings = character(0L))"
     ]
    }
   ],
   "source": [
    "tmp = read.csv('test1_UTF.csv', encoding='UTF-8')\n",
    "tmp"
   ]
  },
  {
   "cell_type": "markdown",
   "metadata": {},
   "source": [
    "- 여전히 안된다.\n",
    "- 에러 메세지 중에 '<eb><82><a8><2c>52라고 써있는 게 Byte Order Mark인 것 같다.(뭔지 모르겠으면 그냥 그런게 있구나하고 넘어가자)\n",
    "- 그럼 BOM을 제거하고 자료를 보여주는 인코딩 설정인 UTF-8-BOM 붙여보자"
   ]
  },
  {
   "cell_type": "code",
   "execution_count": 149,
   "metadata": {},
   "outputs": [
    {
     "ename": "ERROR",
     "evalue": "Error in make.names(col.names, unique = TRUE): 유효하지 않은 멀티바이트 문자열 1입니다\n",
     "output_type": "error",
     "traceback": [
      "Error in make.names(col.names, unique = TRUE): 유효하지 않은 멀티바이트 문자열 1입니다\nTraceback:\n",
      "1. read.csv(\"test1_UTF.csv\", encoding = \"UTF-8-BOM\")",
      "2. read.table(file = file, header = header, sep = sep, quote = quote, \n .     dec = dec, fill = fill, comment.char = comment.char, ...)",
      "3. make.names(col.names, unique = TRUE)"
     ]
    }
   ],
   "source": [
    "tmp = read.csv('test1_UTF.csv', encoding='UTF-8-BOM')\n",
    "tmp"
   ]
  },
  {
   "cell_type": "markdown",
   "metadata": {},
   "source": [
    "- 여전히 문제가 발생한다.\n",
    "- 이쯤되면 세부 설정이 가능한 read.table을 써보자"
   ]
  },
  {
   "cell_type": "code",
   "execution_count": 155,
   "metadata": {},
   "outputs": [
    {
     "data": {
      "text/html": [
       "<table>\n",
       "<thead><tr><th scope=col>이름</th><th scope=col>성별</th><th scope=col>나이</th><th scope=col>혈액형</th><th scope=col>키</th></tr></thead>\n",
       "<tbody>\n",
       "\t<tr><td>김일번</td><td>남    </td><td>15    </td><td>A     </td><td>164   </td></tr>\n",
       "\t<tr><td>박이번</td><td>여    </td><td>64    </td><td>O     </td><td>180   </td></tr>\n",
       "\t<tr><td>김삼번</td><td>남    </td><td>52    </td><td>A     </td><td>162   </td></tr>\n",
       "\t<tr><td>김사번</td><td>남    </td><td>97    </td><td>A     </td><td>184   </td></tr>\n",
       "\t<tr><td>최오번</td><td>여    </td><td>88    </td><td>B     </td><td>158   </td></tr>\n",
       "\t<tr><td>이육번</td><td>여    </td><td>33    </td><td>AB    </td><td>156   </td></tr>\n",
       "\t<tr><td>이칠번</td><td>여    </td><td>16    </td><td>AB    </td><td>172   </td></tr>\n",
       "\t<tr><td>김팔번</td><td>남    </td><td>52    </td><td>O     </td><td>168   </td></tr>\n",
       "\t<tr><td>이구번</td><td>여    </td><td>24    </td><td>A     </td><td>177   </td></tr>\n",
       "\t<tr><td>최십번</td><td>여    </td><td>23    </td><td>O     </td><td>169   </td></tr>\n",
       "</tbody>\n",
       "</table>\n"
      ],
      "text/latex": [
       "\\begin{tabular}{r|lllll}\n",
       " 이름 & 성별 & 나이 & 혈액형 & 키\\\\\n",
       "\\hline\n",
       "\t 김일번 & 남     & 15     & A      & 164   \\\\\n",
       "\t 박이번 & 여     & 64     & O      & 180   \\\\\n",
       "\t 김삼번 & 남     & 52     & A      & 162   \\\\\n",
       "\t 김사번 & 남     & 97     & A      & 184   \\\\\n",
       "\t 최오번 & 여     & 88     & B      & 158   \\\\\n",
       "\t 이육번 & 여     & 33     & AB     & 156   \\\\\n",
       "\t 이칠번 & 여     & 16     & AB     & 172   \\\\\n",
       "\t 김팔번 & 남     & 52     & O      & 168   \\\\\n",
       "\t 이구번 & 여     & 24     & A      & 177   \\\\\n",
       "\t 최십번 & 여     & 23     & O      & 169   \\\\\n",
       "\\end{tabular}\n"
      ],
      "text/markdown": [
       "\n",
       "이름 | 성별 | 나이 | 혈액형 | 키 | \n",
       "|---|---|---|---|---|---|---|---|---|---|\n",
       "| 김일번 | 남     | 15     | A      | 164    | \n",
       "| 박이번 | 여     | 64     | O      | 180    | \n",
       "| 김삼번 | 남     | 52     | A      | 162    | \n",
       "| 김사번 | 남     | 97     | A      | 184    | \n",
       "| 최오번 | 여     | 88     | B      | 158    | \n",
       "| 이육번 | 여     | 33     | AB     | 156    | \n",
       "| 이칠번 | 여     | 16     | AB     | 172    | \n",
       "| 김팔번 | 남     | 52     | O      | 168    | \n",
       "| 이구번 | 여     | 24     | A      | 177    | \n",
       "| 최십번 | 여     | 23     | O      | 169    | \n",
       "\n",
       "\n"
      ],
      "text/plain": [
       "   이름   성별 나이 혈액형 키 \n",
       "1  김일번 남   15   A      164\n",
       "2  박이번 여   64   O      180\n",
       "3  김삼번 남   52   A      162\n",
       "4  김사번 남   97   A      184\n",
       "5  최오번 여   88   B      158\n",
       "6  이육번 여   33   AB     156\n",
       "7  이칠번 여   16   AB     172\n",
       "8  김팔번 남   52   O      168\n",
       "9  이구번 여   24   A      177\n",
       "10 최십번 여   23   O      169"
      ]
     },
     "metadata": {},
     "output_type": "display_data"
    }
   ],
   "source": [
    "tmp = read.table('test1_UTF.csv', header=TRUE, sep=',', fileEncoding = 'UTF-8-BOM')\n",
    "tmp"
   ]
  },
  {
   "cell_type": "markdown",
   "metadata": {},
   "source": [
    "- read.table로 하니까 잘 읽힌다.\n",
    "- 하지만 위의 상황은 매우 특수한 상황으로 깨끗한 데이터셋에서는 보통 저런 문제가 발생하지 않는다.\n",
    "- 하지만 전처리하지 않은 데이터는 파일 인코딩부터 별별 문제가 다 생기니 참고하자.\n",
    "- 국내에서 제공하는 공공데이터나 기업데이터는 레거시코드 등의 문제 때문에 인코딩 보통 통일돼서 제공되지 않는다.\n",
    "- 일반적으로 한국어 데이터가 있으면 enconding 또는 fileEncoding에서 \"ANSI, UTF-8, UTF-8-BOM, EUC-KR, CP949\" 중 하나로 해결된다.\n",
    "- 다양하게 적용해보거나, 이런 문제를 해결해주는 R 패키지를 쓰는 것도 방법이다.\n",
    "- 구글링을 열심히 하면 방법을 찾아낼 수 있다. 국내 블로그 뿐만 아니라 해외 사이트인 Stack Overflow를 애용하자."
   ]
  },
  {
   "cell_type": "markdown",
   "metadata": {},
   "source": [
    "### 2-3. 불러온 데이터의 값, 행, 열 불러오기"
   ]
  },
  {
   "cell_type": "markdown",
   "metadata": {},
   "source": [
    "- 데이터를 불러오면 하나의 값, 행, 열을 선택해서 보는 기능이 제일 기본이 된다.\n",
    "- 실습은 익숙한 한글 데이터셋을 사용한다."
   ]
  },
  {
   "cell_type": "code",
   "execution_count": 160,
   "metadata": {},
   "outputs": [
    {
     "data": {
      "text/html": [
       "<table>\n",
       "<thead><tr><th scope=col>이름</th><th scope=col>성별</th><th scope=col>나이</th><th scope=col>혈액형</th><th scope=col>키</th></tr></thead>\n",
       "<tbody>\n",
       "\t<tr><td>김일번</td><td>남    </td><td>15    </td><td>A     </td><td>164   </td></tr>\n",
       "\t<tr><td>박이번</td><td>여    </td><td>64    </td><td>O     </td><td>180   </td></tr>\n",
       "\t<tr><td>김삼번</td><td>남    </td><td>52    </td><td>A     </td><td>162   </td></tr>\n",
       "\t<tr><td>김사번</td><td>남    </td><td>97    </td><td>A     </td><td>184   </td></tr>\n",
       "\t<tr><td>최오번</td><td>여    </td><td>88    </td><td>B     </td><td>158   </td></tr>\n",
       "\t<tr><td>이육번</td><td>여    </td><td>33    </td><td>AB    </td><td>156   </td></tr>\n",
       "\t<tr><td>이칠번</td><td>여    </td><td>16    </td><td>AB    </td><td>172   </td></tr>\n",
       "\t<tr><td>김팔번</td><td>남    </td><td>52    </td><td>O     </td><td>168   </td></tr>\n",
       "\t<tr><td>이구번</td><td>여    </td><td>24    </td><td>A     </td><td>177   </td></tr>\n",
       "\t<tr><td>최십번</td><td>여    </td><td>23    </td><td>O     </td><td>169   </td></tr>\n",
       "</tbody>\n",
       "</table>\n"
      ],
      "text/latex": [
       "\\begin{tabular}{r|lllll}\n",
       " 이름 & 성별 & 나이 & 혈액형 & 키\\\\\n",
       "\\hline\n",
       "\t 김일번 & 남     & 15     & A      & 164   \\\\\n",
       "\t 박이번 & 여     & 64     & O      & 180   \\\\\n",
       "\t 김삼번 & 남     & 52     & A      & 162   \\\\\n",
       "\t 김사번 & 남     & 97     & A      & 184   \\\\\n",
       "\t 최오번 & 여     & 88     & B      & 158   \\\\\n",
       "\t 이육번 & 여     & 33     & AB     & 156   \\\\\n",
       "\t 이칠번 & 여     & 16     & AB     & 172   \\\\\n",
       "\t 김팔번 & 남     & 52     & O      & 168   \\\\\n",
       "\t 이구번 & 여     & 24     & A      & 177   \\\\\n",
       "\t 최십번 & 여     & 23     & O      & 169   \\\\\n",
       "\\end{tabular}\n"
      ],
      "text/markdown": [
       "\n",
       "이름 | 성별 | 나이 | 혈액형 | 키 | \n",
       "|---|---|---|---|---|---|---|---|---|---|\n",
       "| 김일번 | 남     | 15     | A      | 164    | \n",
       "| 박이번 | 여     | 64     | O      | 180    | \n",
       "| 김삼번 | 남     | 52     | A      | 162    | \n",
       "| 김사번 | 남     | 97     | A      | 184    | \n",
       "| 최오번 | 여     | 88     | B      | 158    | \n",
       "| 이육번 | 여     | 33     | AB     | 156    | \n",
       "| 이칠번 | 여     | 16     | AB     | 172    | \n",
       "| 김팔번 | 남     | 52     | O      | 168    | \n",
       "| 이구번 | 여     | 24     | A      | 177    | \n",
       "| 최십번 | 여     | 23     | O      | 169    | \n",
       "\n",
       "\n"
      ],
      "text/plain": [
       "   이름   성별 나이 혈액형 키 \n",
       "1  김일번 남   15   A      164\n",
       "2  박이번 여   64   O      180\n",
       "3  김삼번 남   52   A      162\n",
       "4  김사번 남   97   A      184\n",
       "5  최오번 여   88   B      158\n",
       "6  이육번 여   33   AB     156\n",
       "7  이칠번 여   16   AB     172\n",
       "8  김팔번 남   52   O      168\n",
       "9  이구번 여   24   A      177\n",
       "10 최십번 여   23   O      169"
      ]
     },
     "metadata": {},
     "output_type": "display_data"
    }
   ],
   "source": [
    "tmp = read.csv('test1_ANSI.csv')\n",
    "tmp"
   ]
  },
  {
   "cell_type": "markdown",
   "metadata": {},
   "source": [
    "- 값을 하나 선택해보자"
   ]
  },
  {
   "cell_type": "code",
   "execution_count": 162,
   "metadata": {},
   "outputs": [
    {
     "data": {
      "text/html": [
       "김일번\n",
       "<details>\n",
       "\t<summary style=display:list-item;cursor:pointer>\n",
       "\t\t<strong>Levels</strong>:\n",
       "\t</summary>\n",
       "\t<ol class=list-inline>\n",
       "\t\t<li>'김사번'</li>\n",
       "\t\t<li>'김삼번'</li>\n",
       "\t\t<li>'김일번'</li>\n",
       "\t\t<li>'김팔번'</li>\n",
       "\t\t<li>'박이번'</li>\n",
       "\t\t<li>'이구번'</li>\n",
       "\t\t<li>'이육번'</li>\n",
       "\t\t<li>'이칠번'</li>\n",
       "\t\t<li>'최십번'</li>\n",
       "\t\t<li>'최오번'</li>\n",
       "\t</ol>\n",
       "</details>"
      ],
      "text/latex": [
       "김일번\n",
       "\\emph{Levels}: \\begin{enumerate*}\n",
       "\\item '김사번'\n",
       "\\item '김삼번'\n",
       "\\item '김일번'\n",
       "\\item '김팔번'\n",
       "\\item '박이번'\n",
       "\\item '이구번'\n",
       "\\item '이육번'\n",
       "\\item '이칠번'\n",
       "\\item '최십번'\n",
       "\\item '최오번'\n",
       "\\end{enumerate*}\n"
      ],
      "text/markdown": [
       "김일번\n",
       "**Levels**: 1. '김사번'\n",
       "2. '김삼번'\n",
       "3. '김일번'\n",
       "4. '김팔번'\n",
       "5. '박이번'\n",
       "6. '이구번'\n",
       "7. '이육번'\n",
       "8. '이칠번'\n",
       "9. '최십번'\n",
       "10. '최오번'\n",
       "\n",
       "\n"
      ],
      "text/plain": [
       "[1] 김일번\n",
       "10 Levels: 김사번 김삼번 김일번 김팔번 박이번 이구번 이육번 이칠번 ... 최오번"
      ]
     },
     "metadata": {},
     "output_type": "display_data"
    }
   ],
   "source": [
    "tmp[1,1]"
   ]
  },
  {
   "cell_type": "code",
   "execution_count": 164,
   "metadata": {},
   "outputs": [
    {
     "data": {
      "text/html": [
       "88"
      ],
      "text/latex": [
       "88"
      ],
      "text/markdown": [
       "88"
      ],
      "text/plain": [
       "[1] 88"
      ]
     },
     "metadata": {},
     "output_type": "display_data"
    }
   ],
   "source": [
    "tmp[5,3]"
   ]
  },
  {
   "cell_type": "markdown",
   "metadata": {},
   "source": [
    "- 불러온 테이블의 원소는 \"객체명[행, 열]\"로 불러오는 것을 알 수 있다.\n",
    "- 이번엔 행과 열을 불러와 보자"
   ]
  },
  {
   "cell_type": "code",
   "execution_count": 166,
   "metadata": {},
   "outputs": [
    {
     "data": {
      "text/html": [
       "<table>\n",
       "<thead><tr><th></th><th scope=col>이름</th><th scope=col>성별</th><th scope=col>나이</th><th scope=col>혈액형</th><th scope=col>키</th></tr></thead>\n",
       "<tbody>\n",
       "\t<tr><th scope=row>2</th><td>박이번</td><td>여    </td><td>64    </td><td>O     </td><td>180   </td></tr>\n",
       "</tbody>\n",
       "</table>\n"
      ],
      "text/latex": [
       "\\begin{tabular}{r|lllll}\n",
       "  & 이름 & 성별 & 나이 & 혈액형 & 키\\\\\n",
       "\\hline\n",
       "\t2 & 박이번 & 여     & 64     & O      & 180   \\\\\n",
       "\\end{tabular}\n"
      ],
      "text/markdown": [
       "\n",
       "| <!--/--> | 이름 | 성별 | 나이 | 혈액형 | 키 | \n",
       "|---|\n",
       "| 2 | 박이번 | 여     | 64     | O      | 180    | \n",
       "\n",
       "\n"
      ],
      "text/plain": [
       "  이름   성별 나이 혈액형 키 \n",
       "2 박이번 여   64   O      180"
      ]
     },
     "metadata": {},
     "output_type": "display_data"
    }
   ],
   "source": [
    "tmp[2,]"
   ]
  },
  {
   "cell_type": "code",
   "execution_count": 167,
   "metadata": {},
   "outputs": [
    {
     "data": {
      "text/html": [
       "<ol class=list-inline>\n",
       "\t<li>15</li>\n",
       "\t<li>64</li>\n",
       "\t<li>52</li>\n",
       "\t<li>97</li>\n",
       "\t<li>88</li>\n",
       "\t<li>33</li>\n",
       "\t<li>16</li>\n",
       "\t<li>52</li>\n",
       "\t<li>24</li>\n",
       "\t<li>23</li>\n",
       "</ol>\n"
      ],
      "text/latex": [
       "\\begin{enumerate*}\n",
       "\\item 15\n",
       "\\item 64\n",
       "\\item 52\n",
       "\\item 97\n",
       "\\item 88\n",
       "\\item 33\n",
       "\\item 16\n",
       "\\item 52\n",
       "\\item 24\n",
       "\\item 23\n",
       "\\end{enumerate*}\n"
      ],
      "text/markdown": [
       "1. 15\n",
       "2. 64\n",
       "3. 52\n",
       "4. 97\n",
       "5. 88\n",
       "6. 33\n",
       "7. 16\n",
       "8. 52\n",
       "9. 24\n",
       "10. 23\n",
       "\n",
       "\n"
      ],
      "text/plain": [
       " [1] 15 64 52 97 88 33 16 52 24 23"
      ]
     },
     "metadata": {},
     "output_type": "display_data"
    }
   ],
   "source": [
    "tmp[,3]"
   ]
  },
  {
   "cell_type": "markdown",
   "metadata": {},
   "source": [
    "- 행과 열 중에서 한쪽을 비워두면 입력한 행과 열의 전체 값을 모두 불러온다.\n",
    "- 이번엔 행과 열을 선택하고 일부 값만 불러오는 것을 해보자."
   ]
  },
  {
   "cell_type": "code",
   "execution_count": 170,
   "metadata": {},
   "outputs": [
    {
     "data": {
      "text/html": [
       "<table>\n",
       "<thead><tr><th></th><th scope=col>이름</th><th scope=col>성별</th><th scope=col>나이</th></tr></thead>\n",
       "<tbody>\n",
       "\t<tr><th scope=row>2</th><td>박이번</td><td>여    </td><td>64    </td></tr>\n",
       "</tbody>\n",
       "</table>\n"
      ],
      "text/latex": [
       "\\begin{tabular}{r|lll}\n",
       "  & 이름 & 성별 & 나이\\\\\n",
       "\\hline\n",
       "\t2 & 박이번 & 여     & 64    \\\\\n",
       "\\end{tabular}\n"
      ],
      "text/markdown": [
       "\n",
       "| <!--/--> | 이름 | 성별 | 나이 | \n",
       "|---|\n",
       "| 2 | 박이번 | 여     | 64     | \n",
       "\n",
       "\n"
      ],
      "text/plain": [
       "  이름   성별 나이\n",
       "2 박이번 여   64  "
      ]
     },
     "metadata": {},
     "output_type": "display_data"
    }
   ],
   "source": [
    "tmp[2,1:3]"
   ]
  },
  {
   "cell_type": "code",
   "execution_count": 171,
   "metadata": {},
   "outputs": [
    {
     "data": {
      "text/html": [
       "<table>\n",
       "<thead><tr><th></th><th scope=col>이름</th><th scope=col>성별</th><th scope=col>나이</th></tr></thead>\n",
       "<tbody>\n",
       "\t<tr><th scope=row>2</th><td>박이번</td><td>여    </td><td>64    </td></tr>\n",
       "</tbody>\n",
       "</table>\n"
      ],
      "text/latex": [
       "\\begin{tabular}{r|lll}\n",
       "  & 이름 & 성별 & 나이\\\\\n",
       "\\hline\n",
       "\t2 & 박이번 & 여     & 64    \\\\\n",
       "\\end{tabular}\n"
      ],
      "text/markdown": [
       "\n",
       "| <!--/--> | 이름 | 성별 | 나이 | \n",
       "|---|\n",
       "| 2 | 박이번 | 여     | 64     | \n",
       "\n",
       "\n"
      ],
      "text/plain": [
       "  이름   성별 나이\n",
       "2 박이번 여   64  "
      ]
     },
     "metadata": {},
     "output_type": "display_data"
    }
   ],
   "source": [
    "tmp[2,c(1,2,3)]"
   ]
  },
  {
   "cell_type": "code",
   "execution_count": 172,
   "metadata": {},
   "outputs": [
    {
     "data": {
      "text/html": [
       "<table>\n",
       "<thead><tr><th></th><th scope=col>이름</th><th scope=col>성별</th><th scope=col>나이</th></tr></thead>\n",
       "<tbody>\n",
       "\t<tr><th scope=row>2</th><td>박이번</td><td>여    </td><td>64    </td></tr>\n",
       "</tbody>\n",
       "</table>\n"
      ],
      "text/latex": [
       "\\begin{tabular}{r|lll}\n",
       "  & 이름 & 성별 & 나이\\\\\n",
       "\\hline\n",
       "\t2 & 박이번 & 여     & 64    \\\\\n",
       "\\end{tabular}\n"
      ],
      "text/markdown": [
       "\n",
       "| <!--/--> | 이름 | 성별 | 나이 | \n",
       "|---|\n",
       "| 2 | 박이번 | 여     | 64     | \n",
       "\n",
       "\n"
      ],
      "text/plain": [
       "  이름   성별 나이\n",
       "2 박이번 여   64  "
      ]
     },
     "metadata": {},
     "output_type": "display_data"
    }
   ],
   "source": [
    "tmp[2,seq(1,3)]"
   ]
  },
  {
   "cell_type": "markdown",
   "metadata": {},
   "source": [
    "- 2번 행 중에서 1~3열에 해당하는 값만 불러왔다.\n",
    "- 위의 3가지 방식은 사용 결과가 모두 동일하다.\n",
    "- 열에서 사용해도 동일하니 생략!"
   ]
  },
  {
   "cell_type": "code",
   "execution_count": null,
   "metadata": {},
   "outputs": [],
   "source": []
  },
  {
   "cell_type": "code",
   "execution_count": null,
   "metadata": {},
   "outputs": [],
   "source": []
  },
  {
   "cell_type": "code",
   "execution_count": null,
   "metadata": {},
   "outputs": [],
   "source": []
  },
  {
   "cell_type": "code",
   "execution_count": null,
   "metadata": {},
   "outputs": [],
   "source": []
  },
  {
   "cell_type": "code",
   "execution_count": null,
   "metadata": {},
   "outputs": [],
   "source": []
  },
  {
   "cell_type": "code",
   "execution_count": null,
   "metadata": {},
   "outputs": [],
   "source": []
  },
  {
   "cell_type": "code",
   "execution_count": null,
   "metadata": {},
   "outputs": [],
   "source": []
  },
  {
   "cell_type": "code",
   "execution_count": null,
   "metadata": {},
   "outputs": [],
   "source": []
  },
  {
   "cell_type": "code",
   "execution_count": null,
   "metadata": {},
   "outputs": [],
   "source": []
  },
  {
   "cell_type": "code",
   "execution_count": null,
   "metadata": {},
   "outputs": [],
   "source": []
  },
  {
   "cell_type": "code",
   "execution_count": null,
   "metadata": {},
   "outputs": [],
   "source": []
  },
  {
   "cell_type": "code",
   "execution_count": null,
   "metadata": {},
   "outputs": [],
   "source": []
  },
  {
   "cell_type": "code",
   "execution_count": null,
   "metadata": {},
   "outputs": [],
   "source": []
  },
  {
   "cell_type": "code",
   "execution_count": null,
   "metadata": {},
   "outputs": [],
   "source": []
  },
  {
   "cell_type": "code",
   "execution_count": null,
   "metadata": {},
   "outputs": [],
   "source": []
  },
  {
   "cell_type": "code",
   "execution_count": null,
   "metadata": {},
   "outputs": [],
   "source": []
  },
  {
   "cell_type": "code",
   "execution_count": null,
   "metadata": {},
   "outputs": [],
   "source": []
  },
  {
   "cell_type": "code",
   "execution_count": null,
   "metadata": {},
   "outputs": [],
   "source": []
  },
  {
   "cell_type": "code",
   "execution_count": null,
   "metadata": {},
   "outputs": [],
   "source": []
  },
  {
   "cell_type": "code",
   "execution_count": null,
   "metadata": {},
   "outputs": [],
   "source": []
  },
  {
   "cell_type": "code",
   "execution_count": null,
   "metadata": {},
   "outputs": [],
   "source": []
  },
  {
   "cell_type": "code",
   "execution_count": null,
   "metadata": {},
   "outputs": [],
   "source": []
  },
  {
   "cell_type": "code",
   "execution_count": null,
   "metadata": {},
   "outputs": [],
   "source": []
  },
  {
   "cell_type": "code",
   "execution_count": null,
   "metadata": {},
   "outputs": [],
   "source": []
  },
  {
   "cell_type": "code",
   "execution_count": null,
   "metadata": {},
   "outputs": [],
   "source": []
  },
  {
   "cell_type": "code",
   "execution_count": null,
   "metadata": {},
   "outputs": [],
   "source": []
  },
  {
   "cell_type": "code",
   "execution_count": null,
   "metadata": {},
   "outputs": [],
   "source": []
  },
  {
   "cell_type": "code",
   "execution_count": null,
   "metadata": {},
   "outputs": [],
   "source": []
  },
  {
   "cell_type": "code",
   "execution_count": null,
   "metadata": {},
   "outputs": [],
   "source": []
  },
  {
   "cell_type": "code",
   "execution_count": null,
   "metadata": {},
   "outputs": [],
   "source": []
  },
  {
   "cell_type": "code",
   "execution_count": null,
   "metadata": {},
   "outputs": [],
   "source": []
  },
  {
   "cell_type": "code",
   "execution_count": null,
   "metadata": {},
   "outputs": [],
   "source": []
  },
  {
   "cell_type": "code",
   "execution_count": null,
   "metadata": {},
   "outputs": [],
   "source": []
  },
  {
   "cell_type": "code",
   "execution_count": null,
   "metadata": {},
   "outputs": [],
   "source": []
  },
  {
   "cell_type": "code",
   "execution_count": null,
   "metadata": {},
   "outputs": [],
   "source": []
  },
  {
   "cell_type": "code",
   "execution_count": null,
   "metadata": {},
   "outputs": [],
   "source": []
  },
  {
   "cell_type": "code",
   "execution_count": null,
   "metadata": {},
   "outputs": [],
   "source": []
  },
  {
   "cell_type": "code",
   "execution_count": null,
   "metadata": {},
   "outputs": [],
   "source": []
  }
 ],
 "metadata": {
  "kernelspec": {
   "display_name": "R",
   "language": "R",
   "name": "ir"
  },
  "language_info": {
   "codemirror_mode": "r",
   "file_extension": ".r",
   "mimetype": "text/x-r-source",
   "name": "R",
   "pygments_lexer": "r",
   "version": "3.5.1"
  }
 },
 "nbformat": 4,
 "nbformat_minor": 2
}
